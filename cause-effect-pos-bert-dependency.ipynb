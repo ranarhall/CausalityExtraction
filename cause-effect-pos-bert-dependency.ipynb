{
 "cells": [
  {
   "cell_type": "code",
   "execution_count": null,
   "metadata": {
    "tags": []
   },
   "outputs": [],
   "source": [
    "import pandas as pd\n",
    "import tensorflow as tf\n",
    "import random\n",
    "from sklearn.feature_extraction.text import TfidfVectorizer\n",
    "import numpy as np\n",
    "import torch.nn as nn\n",
    "from sklearn.metrics import precision_recall_fscore_support\n",
    "import torch.optim as optim\n",
    "import torch.nn.functional as F\n",
    "from sklearn.model_selection import train_test_split\n",
    "from tensorflow.keras import layers, backend as K\n",
    "import tensorflow.keras as keras\n",
    "from tensorflow.keras.models import Sequential, Model\n",
    "from tensorflow.keras.layers import Multiply, Subtract, Lambda, Input, Embedding, Dense, Activation, Lambda, Permute,Flatten, Concatenate, Dropout, GlobalAveragePooling1D, RepeatVector\n",
    "from tensorflow.keras.callbacks import EarlyStopping, ModelCheckpoint, Callback\n",
    "from tensorflow.keras.layers import Reshape, Dot\n",
    "from tensorflow.keras.activations import softmax\n",
    "import itertools\n",
    "from sklearn.metrics import average_precision_score\n",
    "from sklearn.metrics import precision_score\n",
    "from sklearn.metrics import recall_score\n",
    "from sklearn.metrics import f1_score\n",
    "import pickle\n",
    "from tqdm import tqdm\n",
    "import matplotlib.pyplot as plt\n",
    "from tokenization_bert import BertTokenizer\n",
    "from sklearn.metrics import ndcg_score\n",
    "import pickle, inspect\n",
    "import os\n",
    "from ast import literal_eval\n",
    "import torch\n",
    "import re, math\n",
    "import random\n",
    "from random import sample\n",
    "from torch.autograd import Variable\n",
    "import glob\n",
    "from collections import Counter\n",
    "from tensorflow.keras.preprocessing.text import text_to_word_sequence\n",
    "from transformers import AutoTokenizer, AutoModel\n",
    "from tensorflow.keras.layers import Embedding\n",
    "from numpy import array\n",
    "from tensorflow.keras.preprocessing.text import one_hot\n",
    "from tensorflow.keras.preprocessing.sequence import pad_sequences\n",
    "from tensorflow.keras.preprocessing.text import Tokenizer\n",
    "from sklearn.metrics import average_precision_score\n",
    "from transformers import BertTokenizerFast, BertForTokenClassification\n",
    "from torch.utils.data import DataLoader\n",
    "from tqdm import tqdm\n",
    "from torch.optim import SGD\n",
    "from itertools import combinations\n",
    "import modeling_bert\n",
    "from modeling_utils import (PretrainedConfig, PreTrainedModel)\n",
    "from graph_encoder import GNNRelationModel, pool\n",
    "import re\n",
    "import unicodedata\n",
    "os.environ[\"TOKENIZERS_PARALLELISM\"] = \"false\""
   ]
  },
  {
   "cell_type": "code",
   "execution_count": 2,
   "metadata": {
    "tags": []
   },
   "outputs": [],
   "source": [
    "maxSeqLn = 50\n",
    "num_label = 4"
   ]
  },
  {
   "cell_type": "code",
   "execution_count": 3,
   "metadata": {
    "tags": []
   },
   "outputs": [],
   "source": [
    "def remove_bracketed_text(text):\n",
    "    # Remove text enclosed in brackets using regular expressions\n",
    "    cleaned_text = re.sub(r'\\([^)]*\\)', '', text)\n",
    "    return cleaned_text\n",
    "\n",
    "def clean(text):\n",
    "    # Remove non-ASCII characters using the unicodedata module\n",
    "    text = text.lower()\n",
    "    text = ''.join(char for char in text if unicodedata.category(char) != 'Mn')\n",
    "    text = remove_bracketed_text(text)\n",
    "    text = re.sub(r'\\s+', ' ', text).strip()\n",
    "    text = re.sub(r'\\s+(\\,)', r'\\1', text)\n",
    "    cleaned_text = re.sub(r'\\s+(\\.)', r'\\1', text)\n",
    "    return cleaned_text"
   ]
  },
  {
   "cell_type": "code",
   "execution_count": 4,
   "metadata": {
    "tags": []
   },
   "outputs": [],
   "source": [
    "dftrain = pd.read_csv(\"train.csv\", header=None)\n",
    "dftest = pd.read_csv(\"test.csv\", header=None)\n",
    "dfval = pd.read_csv(\"val.csv\", header=None)"
   ]
  },
  {
   "cell_type": "code",
   "execution_count": 5,
   "metadata": {
    "tags": []
   },
   "outputs": [
    {
     "name": "stdout",
     "output_type": "stream",
     "text": [
      "11611\n",
      "3871\n",
      "3870\n"
     ]
    }
   ],
   "source": [
    "print(len(dftrain))\n",
    "print(len(dftest))\n",
    "print(len(dfval))"
   ]
  },
  {
   "cell_type": "code",
   "execution_count": 6,
   "metadata": {
    "tags": []
   },
   "outputs": [
    {
     "name": "stdout",
     "output_type": "stream",
     "text": [
      "['2', '1', '1', '1', '1', '3', '3', '3', '1', '1', '1', '1', '1', '1', '1', '1', '1', '1', '1', '1', '1']\n"
     ]
    }
   ],
   "source": [
    "def find(sup, sub):\n",
    "    for i,s1 in enumerate(sup):\n",
    "        if ((len(s1) - len(sub[0])) * (len(s1) - len(sub[0])) <= 4) and (s1 in sub[0] or sub[0] in s1):\n",
    "            lsb = len(sub)\n",
    "            lsp = len(sup)\n",
    "            flag = True\n",
    "            for j in range(lsb):\n",
    "                if i+j < lsp and (sub[j] in sup[i+j] or sup[i+j] in sub[j]) and ((len(sub[j]) - len(sup[i+j])) * (len(sup[i+j]) - len(sub[j])) <= 4):\n",
    "                    continue\n",
    "                else:\n",
    "                    flag = False\n",
    "                    break\n",
    "            if flag == True:\n",
    "                return i\n",
    "    return -1\n",
    "\n",
    "\n",
    "def mark_a_sentence(sent, first_entity, second_entity):\n",
    "    sent = sent.lower()\n",
    "    first_entity = first_entity.lower()\n",
    "    second_entity = second_entity.lower()\n",
    "    entity1_tokens = first_entity.split()\n",
    "    entity2_tokens = second_entity.split()\n",
    "    sent_toks = sent.split()\n",
    "    labels = ['1'] * len(sent_toks)\n",
    "    i = find(sent_toks, entity1_tokens)\n",
    "    if i > -1:\n",
    "        for j in range(i, i+len(entity1_tokens)):\n",
    "            labels[j] = '2'\n",
    "\n",
    "    i = find(sent_toks, entity2_tokens)\n",
    "    if i > -1:\n",
    "        for j in range(i, i+len(entity2_tokens)):\n",
    "            labels[j] = '3'\n",
    "    return labels\n",
    "\n",
    "first_entity = 'alvand'\n",
    "second_entity = 'the zagros mountain'\n",
    "sen = 'alvand is a subrange of the zagros mountains in western iran located south of the city of hamedan in hamedan province.'\n",
    "print(mark_a_sentence(sen, first_entity, second_entity))"
   ]
  },
  {
   "cell_type": "code",
   "execution_count": 7,
   "metadata": {
    "tags": []
   },
   "outputs": [
    {
     "name": "stdout",
     "output_type": "stream",
     "text": [
      "1\n",
      "['londons', 'skyscrapers,', 'such', 'as', '30', 'st', 'mary', 'axe,', 'tower', '42,', 'the', 'broadgate', 'tower', 'and', 'one', 'canada', 'square,', 'are', 'mostly', 'in', 'the', 'two', 'financial', 'districts,', 'the', 'city', 'of', 'london', 'and', 'canary', 'wharf']\n",
      "['skyscraper']\n"
     ]
    }
   ],
   "source": [
    "first_entity = '30 st mary axe'\n",
    "second_entity = 'skyscraper'\n",
    "sen = 'london''s skyscrapers, such as 30 st mary axe, tower 42, the broadgate tower and one canada square, are mostly in the two financial districts, the city of london and canary wharf'\n",
    "print(find(sen.split(), second_entity.split()))\n",
    "\n",
    "print(sen.split())\n",
    "print(second_entity.split()) "
   ]
  },
  {
   "cell_type": "code",
   "execution_count": 8,
   "metadata": {
    "tags": []
   },
   "outputs": [],
   "source": [
    "vals = []\n",
    "for v in dftrain.values:\n",
    "    st = v[2] \n",
    "    tokens = st.split()\n",
    "    labels = ['1'] * len(tokens)\n",
    "    first = v[0]\n",
    "    second = v[1]\n",
    "    if v[3] == False:\n",
    "        vals.append([v[0], v[1], v[2], labels, v[3]])\n",
    "    else:\n",
    "        vals.append([v[0], v[1], v[2], mark_a_sentence(v[2], v[0], v[1]), v[3]])\n",
    "        \n",
    "\n",
    "dftrain2 = pd.DataFrame(data=vals, index=None,columns=None)"
   ]
  },
  {
   "cell_type": "code",
   "execution_count": 9,
   "metadata": {
    "tags": []
   },
   "outputs": [],
   "source": [
    "vals = []\n",
    "for v in dftest.values:\n",
    "    st = v[2] \n",
    "    tokens = st.split()\n",
    "    labels = ['1'] * len(tokens)\n",
    "    first = v[0]\n",
    "    second = v[1]\n",
    "    if v[3] == False:\n",
    "        vals.append([v[0], v[1], v[2], labels, v[3]])\n",
    "    else:\n",
    "        vals.append([v[0], v[1], v[2], mark_a_sentence(v[2], v[0], v[1]), v[3]])\n",
    "        \n",
    "\n",
    "dftest2 = pd.DataFrame(data=vals, index=None,columns=None)"
   ]
  },
  {
   "cell_type": "code",
   "execution_count": 10,
   "metadata": {
    "tags": []
   },
   "outputs": [],
   "source": [
    "vals = []\n",
    "for v in dfval.values:\n",
    "    st = v[2] \n",
    "    tokens = st.split()\n",
    "    labels = ['1'] * len(tokens)\n",
    "    first = v[0]\n",
    "    second = v[1]\n",
    "    if v[3] == False:\n",
    "        vals.append([v[0], v[1], v[2], labels, v[3]])\n",
    "    else:\n",
    "        vals.append([v[0], v[1], v[2], mark_a_sentence(v[2], v[0], v[1]), v[3]])\n",
    "        \n",
    "\n",
    "dfval2 = pd.DataFrame(data=vals, index=None,columns=None)"
   ]
  },
  {
   "cell_type": "code",
   "execution_count": 11,
   "metadata": {
    "tags": []
   },
   "outputs": [],
   "source": [
    "device = \"cuda:0\" if torch.cuda.is_available() else \"cpu\"\n",
    "tokenizer = AutoTokenizer.from_pretrained('bert-uncased')"
   ]
  },
  {
   "cell_type": "code",
   "execution_count": 12,
   "metadata": {
    "tags": []
   },
   "outputs": [
    {
     "name": "stdout",
     "output_type": "stream",
     "text": [
      "['ami', 'val', '##o', 'che', '##le']\n"
     ]
    }
   ],
   "source": [
    "print(tokenizer.tokenize('ami valo chele'))"
   ]
  },
  {
   "cell_type": "code",
   "execution_count": 13,
   "metadata": {
    "tags": []
   },
   "outputs": [
    {
     "name": "stdout",
     "output_type": "stream",
     "text": [
      "{'1': 1, '2': 2, '3': 3}\n",
      "['1', '2', '3']\n"
     ]
    }
   ],
   "source": [
    "unique_labels = ['1', '2', '3']\n",
    "labels_to_ids = {k: v+1 for v, k in enumerate(unique_labels)}\n",
    "ids_to_labels = {v+1: k for v, k in enumerate(unique_labels)}\n",
    "print(labels_to_ids)\n",
    "print(unique_labels)"
   ]
  },
  {
   "cell_type": "code",
   "execution_count": 14,
   "metadata": {
    "tags": []
   },
   "outputs": [],
   "source": [
    "vals = pd.read_csv(\"causality_dataset.csv\", header=None).values[:,3]"
   ]
  },
  {
   "cell_type": "code",
   "execution_count": 15,
   "metadata": {
    "tags": []
   },
   "outputs": [],
   "source": [
    "#pos_tags = []\n",
    "#for v in vals:\n",
    "#    tuples = v.split('|||')\n",
    "#    for t in tuples:\n",
    "#        pos_tags.append(literal_eval(t)[2])\n",
    "#        \n",
    "#unique_pos_tags = list(set(pos_tags))"
   ]
  },
  {
   "cell_type": "code",
   "execution_count": 16,
   "metadata": {
    "tags": []
   },
   "outputs": [],
   "source": [
    "unique_pos_tags_dict = {'ADP' : 1, 'SYM':2, 'INTJ':3, 'SCONJ':4, 'PRON':5, 'PUNCT':6, 'AUX':7, 'PROPN':8, 'CCONJ':9, 'NUM':10, 'X':11, 'ADJ':12, 'VERB':13, 'PART':14, 'ADV':15, 'SPACE':16, 'NOUN':17, 'DET':18}"
   ]
  },
  {
   "cell_type": "code",
   "execution_count": 17,
   "metadata": {
    "tags": []
   },
   "outputs": [
    {
     "name": "stdout",
     "output_type": "stream",
     "text": [
      "{'ADP': 1, 'SYM': 2, 'INTJ': 3, 'SCONJ': 4, 'PRON': 5, 'PUNCT': 6, 'AUX': 7, 'PROPN': 8, 'CCONJ': 9, 'NUM': 10, 'X': 11, 'ADJ': 12, 'VERB': 13, 'PART': 14, 'ADV': 15, 'SPACE': 16, 'NOUN': 17, 'DET': 18}\n"
     ]
    }
   ],
   "source": [
    "print(unique_pos_tags_dict)"
   ]
  },
  {
   "cell_type": "code",
   "execution_count": 18,
   "metadata": {
    "tags": []
   },
   "outputs": [],
   "source": [
    "#text = 'a high level of cholesterol in the blood leads to an increased risk of developing coronary heart disease.'\n",
    "#dep = \"('level', 'a', 'DET')|||('level', 'high', 'ADJ')|||('leads', 'level', 'NOUN')|||('level', 'of', 'ADP')|||('of', 'cholesterol', 'NOUN')|||('level', 'in', 'ADP')|||('blood', 'the', 'DET')|||('in', 'blood', 'NOUN')|||('leads', 'leads', 'VERB')|||('leads', 'to', 'ADP')|||('risk', 'an', 'DET')|||('risk', 'increased', 'VERB')|||('to', 'risk', 'NOUN')|||('risk', 'of', 'ADP')|||('of', 'developing', 'VERB')|||('disease', 'coronary', 'ADJ')|||('disease', 'heart', 'NOUN')|||('developing', 'disease', 'NOUN')|||('leads', '.', 'PUNCT')\"\n",
    "\n",
    "#align_pos_tag(text, dep)"
   ]
  },
  {
   "cell_type": "code",
   "execution_count": 19,
   "metadata": {
    "tags": []
   },
   "outputs": [],
   "source": [
    "tokenizer = AutoTokenizer.from_pretrained('bert-uncased')"
   ]
  },
  {
   "cell_type": "code",
   "execution_count": 20,
   "metadata": {
    "tags": []
   },
   "outputs": [],
   "source": [
    "def find_sublist_indices(super_list, sublist):\n",
    "    indices = []\n",
    "    sublist_length = len(sublist)\n",
    "    for i in range(len(super_list) - sublist_length + 1):\n",
    "        if super_list[i:i+sublist_length] == sublist:\n",
    "            indices.extend(list(range(i, i+sublist_length)))\n",
    "    return indices"
   ]
  },
  {
   "cell_type": "code",
   "execution_count": 21,
   "metadata": {
    "tags": []
   },
   "outputs": [],
   "source": [
    "#super_list = [1, 2, 3, 4, 5, 6, 7, 8, 9, 10]\n",
    "#sublist = [3, 4, 5]\n",
    "\n",
    "#indices = find_sublist_indices(super_list, sublist)\n",
    "#print(indices) [2,3,4]"
   ]
  },
  {
   "cell_type": "code",
   "execution_count": 22,
   "metadata": {
    "tags": []
   },
   "outputs": [
    {
     "name": "stderr",
     "output_type": "stream",
     "text": [
      "100%|██████████| 11611/11611 [00:17<00:00, 670.25it/s]\n"
     ]
    }
   ],
   "source": [
    "n_tr = len(dftrain)\n",
    "train_matrix = np.zeros((n_tr, maxSeqLn, maxSeqLn))\n",
    "\n",
    "for k,val in enumerate(tqdm(dftrain.values)):\n",
    "    dependencies = [literal_eval(v) for v in val[-1].split('|||')]\n",
    "    #print(dependencies)\n",
    "    bert_tokens = tokenizer.convert_ids_to_tokens(tokenizer.batch_encode_plus([val[-2]])['input_ids'][0])\n",
    "    #print(bert_tokens)\n",
    "    for dep in dependencies:\n",
    "        v1 = tokenizer.tokenize(dep[0])\n",
    "        v2 = tokenizer.tokenize(dep[1])\n",
    "        i_s = find_sublist_indices(bert_tokens, v1)\n",
    "        j_s = find_sublist_indices(bert_tokens, v2)\n",
    "        for i in i_s:\n",
    "            for j in j_s:\n",
    "                train_matrix[k][i][j] = 1.0\n",
    "    for i in range(maxSeqLn-1):\n",
    "        train_matrix[k][i][i+1] = 1.0\n",
    "        train_matrix[k][i+1][i] = 1.0"
   ]
  },
  {
   "cell_type": "code",
   "execution_count": 23,
   "metadata": {
    "tags": []
   },
   "outputs": [
    {
     "name": "stderr",
     "output_type": "stream",
     "text": [
      "100%|██████████| 3870/3870 [00:05<00:00, 651.10it/s]\n"
     ]
    }
   ],
   "source": [
    "n_vl = len(dfval)\n",
    "dev_matrix = np.zeros((n_vl, maxSeqLn, maxSeqLn))\n",
    "\n",
    "for k,val in enumerate(tqdm(dfval.values)):\n",
    "    dependencies = [literal_eval(v) for v in val[-1].split('|||')]\n",
    "    #print(dependencies)\n",
    "    bert_tokens = tokenizer.convert_ids_to_tokens(tokenizer.batch_encode_plus([val[-2]])['input_ids'][0])\n",
    "    #print(bert_tokens)\n",
    "    for dep in dependencies:\n",
    "        v1 = tokenizer.tokenize(dep[0])\n",
    "        v2 = tokenizer.tokenize(dep[1])\n",
    "        i_s = find_sublist_indices(bert_tokens, v1)\n",
    "        j_s = find_sublist_indices(bert_tokens, v2)\n",
    "        for i in i_s:\n",
    "            for j in j_s:\n",
    "                dev_matrix[k][i][j] = 1.0\n",
    "    for i in range(maxSeqLn-1):\n",
    "        dev_matrix[k][i][i+1] = 1.0\n",
    "        dev_matrix[k][i+1][i] = 1.0"
   ]
  },
  {
   "cell_type": "code",
   "execution_count": 24,
   "metadata": {
    "tags": []
   },
   "outputs": [
    {
     "name": "stderr",
     "output_type": "stream",
     "text": [
      "100%|██████████| 3871/3871 [00:05<00:00, 663.02it/s]\n"
     ]
    }
   ],
   "source": [
    "n_test = len(dftest)\n",
    "test_matrix = np.zeros((n_test, maxSeqLn, maxSeqLn))\n",
    "\n",
    "for k,val in enumerate(tqdm(dftest.values)):\n",
    "    dependencies = [literal_eval(v) for v in val[-1].split('|||')]\n",
    "    #print(dependencies)\n",
    "    bert_tokens = tokenizer.convert_ids_to_tokens(tokenizer.batch_encode_plus([val[-2]])['input_ids'][0])\n",
    "    #print(bert_tokens)\n",
    "    for dep in dependencies:\n",
    "        v1 = tokenizer.tokenize(dep[0])\n",
    "        v2 = tokenizer.tokenize(dep[1])\n",
    "        i_s = find_sublist_indices(bert_tokens, v1)\n",
    "        j_s = find_sublist_indices(bert_tokens, v2)\n",
    "        for i in i_s:\n",
    "            for j in j_s:\n",
    "                test_matrix[k][i][j] = 1.0\n",
    "    for i in range(maxSeqLn-1):\n",
    "        test_matrix[k][i][i+1] = 1.0\n",
    "        test_matrix[k][i+1][i] = 1.0"
   ]
  },
  {
   "cell_type": "code",
   "execution_count": 25,
   "metadata": {
    "tags": []
   },
   "outputs": [],
   "source": [
    "label_all_tokens = False\n",
    "\n",
    "\n",
    "def align_label(texts, labels):\n",
    "    tokenized_inputs = tokenizer(texts, padding='max_length', max_length=maxSeqLn, truncation=True)\n",
    "    \n",
    "    word_ids = tokenized_inputs.word_ids()\n",
    "\n",
    "    previous_word_idx = None\n",
    "    label_ids = []\n",
    "\n",
    "    for word_idx in word_ids:\n",
    "\n",
    "        if word_idx is None:\n",
    "            label_ids.append(0)\n",
    "\n",
    "        elif word_idx != previous_word_idx:\n",
    "            try:\n",
    "                label_ids.append(labels_to_ids[labels[word_idx]])\n",
    "            except:\n",
    "                label_ids.append(0)\n",
    "        else:\n",
    "            try:\n",
    "                label_ids.append(labels_to_ids[labels[word_idx]] if label_all_tokens else 0)\n",
    "            except:\n",
    "                label_ids.append(0)\n",
    "        previous_word_idx = word_idx\n",
    "        \n",
    "    assert len(set(label_ids)) <= 4\n",
    "    assert len(label_ids) == maxSeqLn\n",
    "\n",
    "    return label_ids\n",
    "\n",
    "def align_pos_tag(text, dependency):\n",
    "    tokenized_inputs = tokenizer(text, padding='max_length', max_length=maxSeqLn, truncation=True)\n",
    "    \n",
    "    spacy_tokens = [literal_eval(t)[1] for t in dependency.split('|||')]\n",
    "    spacy_pos_tags = [literal_eval(t)[2] for t in dependency.split('|||')]\n",
    "    \n",
    "    word_ids = tokenized_inputs.word_ids()\n",
    "\n",
    "    previous_word_idx = None\n",
    "    pos_ids = []\n",
    "\n",
    "    for word_idx in word_ids:\n",
    "\n",
    "        if word_idx is None:\n",
    "            pos_ids.append(0)\n",
    "\n",
    "        elif word_idx != previous_word_idx:\n",
    "            try:\n",
    "                pos_ids.append(unique_pos_tags_dict[spacy_pos_tags[word_idx]])\n",
    "            except:\n",
    "                pos_ids.append(0)\n",
    "        else:\n",
    "            try:\n",
    "                pos_ids.append(unique_pos_tags_dict[spacy_pos_tags[word_idx]] if label_all_tokens else 0)\n",
    "            except:\n",
    "                pos_ids.append(0)\n",
    "        previous_word_idx = word_idx\n",
    "        \n",
    "        \n",
    "    assert len(set(pos_ids)) <= 30\n",
    "    assert len(pos_ids) == maxSeqLn\n",
    "\n",
    "    return pos_ids\n",
    "\n",
    "class DataSequence(torch.utils.data.Dataset):\n",
    "\n",
    "    def __init__(self, df, matrix):\n",
    "\n",
    "        lb = [i for i in df.values[:,3].tolist()]\n",
    "        txt = [i for i in df.values[:,2].tolist()]\n",
    "        deps = [i for i in df.values[:,4].tolist()]\n",
    "        \n",
    "        self.texts = txt\n",
    "        self.labels = [align_label(i,j) for i,j in zip(txt, lb)]\n",
    "        self.dependencies = deps\n",
    "        self.matrix = matrix\n",
    "        \n",
    "    def __len__(self):\n",
    "\n",
    "        return len(self.labels)\n",
    "\n",
    "    def get_batch_data(self, idx):\n",
    "\n",
    "        return self.texts[idx]\n",
    "\n",
    "    def get_batch_labels(self, idx):\n",
    "\n",
    "        return torch.LongTensor(self.labels[idx])\n",
    "    \n",
    "    def get_batch_matrix(self, idx):\n",
    "\n",
    "        return torch.LongTensor(self.matrix[idx])\n",
    "    \n",
    "    def get_dependencies(self, idx):\n",
    "\n",
    "        return self.dependencies[idx]\n",
    "\n",
    "    def __getitem__(self, idx):\n",
    "\n",
    "        batch_data = self.get_batch_data(idx)\n",
    "        batch_labels = self.get_batch_labels(idx)\n",
    "        batch_deps = self.get_dependencies(idx)\n",
    "        batch_matrix = torch.LongTensor(self.get_batch_matrix(idx))\n",
    "\n",
    "        return batch_data, batch_labels, batch_deps, batch_matrix"
   ]
  },
  {
   "cell_type": "code",
   "execution_count": 26,
   "metadata": {
    "tags": []
   },
   "outputs": [],
   "source": [
    "class BertAttention(nn.Module):\n",
    "    def __init__(self):\n",
    "        super(BertAttention, self).__init__()\n",
    "        self.output = modeling_bert.BertSelfOutput()\n",
    "        self.attn = BertSelfAttention()\n",
    "        self.pruned_heads = set()\n",
    "\n",
    "    def forward(self, input_tensor, z, attention_mask):\n",
    "        self_outputs = self.attn(input_tensor,\n",
    "                                 z,\n",
    "                                 attention_mask)\n",
    "        attention_output = self.output(self_outputs[0],\n",
    "                                       input_tensor)\n",
    "        outputs = (attention_output,) + self_outputs[1:]\n",
    "        return outputs"
   ]
  },
  {
   "cell_type": "code",
   "execution_count": 27,
   "metadata": {
    "tags": []
   },
   "outputs": [
    {
     "data": {
      "text/plain": [
       "FullArgSpec(args=['self', 'input_ids', 'attention_mask', 'token_type_ids', 'position_ids', 'head_mask', 'inputs_embeds', 'encoder_hidden_states', 'encoder_attention_mask', 'past_key_values', 'use_cache', 'output_attentions', 'output_hidden_states', 'return_dict'], varargs=None, varkw=None, defaults=(None, None, None, None, None, None, None, None, None, None, None, None, None), kwonlyargs=[], kwonlydefaults=None, annotations={})"
      ]
     },
     "execution_count": 27,
     "metadata": {},
     "output_type": "execute_result"
    }
   ],
   "source": [
    "bert = AutoModel.from_pretrained('bert-uncased')\n",
    "import inspect\n",
    "inspect.getfullargspec(bert.forward)"
   ]
  },
  {
   "cell_type": "code",
   "execution_count": 28,
   "metadata": {
    "tags": []
   },
   "outputs": [],
   "source": [
    "#AutoTokenizer.from_pretrained('/home/mkabir/my_pretrained_model/ebert')\n",
    "class MyTokenizer:\n",
    "    def __init__(self):\n",
    "        self.tok = AutoTokenizer.from_pretrained('bert-uncased')\n",
    "        \n",
    "    def new_batch_encode_plus(self, texts, dependencies):\n",
    "        encoded = self.tok.batch_encode_plus(texts, max_length=maxSeqLn, truncation=True, return_tensors=\"pt\", padding='max_length')\n",
    "        encoded['tag_indices'] = torch.tensor([align_pos_tag(i,j) for i,j in zip(texts, dependencies)])\n",
    "        return encoded"
   ]
  },
  {
   "cell_type": "code",
   "execution_count": 29,
   "metadata": {
    "tags": []
   },
   "outputs": [
    {
     "name": "stdout",
     "output_type": "stream",
     "text": [
      "{'input_ids': tensor([[  101,  1037,  2152,  2504,  1997, 16480,  4244, 27833,  1999,  1996,\n",
      "          2668,  5260,  2000,  2019,  3445,  3891,  1997,  4975, 21887,  2854,\n",
      "          2540,  4295,  1012,   102,     0,     0,     0,     0,     0,     0,\n",
      "             0,     0,     0,     0,     0,     0,     0,     0,     0,     0,\n",
      "             0,     0,     0,     0,     0,     0,     0,     0,     0,     0]]), 'token_type_ids': tensor([[0, 0, 0, 0, 0, 0, 0, 0, 0, 0, 0, 0, 0, 0, 0, 0, 0, 0, 0, 0, 0, 0, 0, 0,\n",
      "         0, 0, 0, 0, 0, 0, 0, 0, 0, 0, 0, 0, 0, 0, 0, 0, 0, 0, 0, 0, 0, 0, 0, 0,\n",
      "         0, 0]]), 'attention_mask': tensor([[1, 1, 1, 1, 1, 1, 1, 1, 1, 1, 1, 1, 1, 1, 1, 1, 1, 1, 1, 1, 1, 1, 1, 1,\n",
      "         0, 0, 0, 0, 0, 0, 0, 0, 0, 0, 0, 0, 0, 0, 0, 0, 0, 0, 0, 0, 0, 0, 0, 0,\n",
      "         0, 0]]), 'tag_indices': tensor([[ 0, 18, 12, 17,  1, 17,  0,  0,  1, 18, 17, 13,  1, 18, 13, 17,  1, 13,\n",
      "         12,  0, 17, 17,  6,  0,  0,  0,  0,  0,  0,  0,  0,  0,  0,  0,  0,  0,\n",
      "          0,  0,  0,  0,  0,  0,  0,  0,  0,  0,  0,  0,  0,  0]])}\n"
     ]
    }
   ],
   "source": [
    "text = 'a high level of cholesterol in the blood leads to an increased risk of developing coronary heart disease.'\n",
    "dep = \"('level', 'a', 'DET')|||('level', 'high', 'ADJ')|||('leads', 'level', 'NOUN')|||('level', 'of', 'ADP')|||('of', 'cholesterol', 'NOUN')|||('level', 'in', 'ADP')|||('blood', 'the', 'DET')|||('in', 'blood', 'NOUN')|||('leads', 'leads', 'VERB')|||('leads', 'to', 'ADP')|||('risk', 'an', 'DET')|||('risk', 'increased', 'VERB')|||('to', 'risk', 'NOUN')|||('risk', 'of', 'ADP')|||('of', 'developing', 'VERB')|||('disease', 'coronary', 'ADJ')|||('disease', 'heart', 'NOUN')|||('developing', 'disease', 'NOUN')|||('leads', '.', 'PUNCT')\"\n",
    "\n",
    "tok = MyTokenizer()\n",
    "print(tok.new_batch_encode_plus([text], [dep]))"
   ]
  },
  {
   "cell_type": "code",
   "execution_count": 30,
   "metadata": {
    "tags": []
   },
   "outputs": [
    {
     "name": "stdout",
     "output_type": "stream",
     "text": [
      "50\n"
     ]
    }
   ],
   "source": [
    "print(maxSeqLn)"
   ]
  },
  {
   "cell_type": "code",
   "execution_count": 31,
   "metadata": {
    "tags": []
   },
   "outputs": [],
   "source": [
    "class CombineBertModel(nn.Module):\n",
    "    def __init__(self):\n",
    "        super(CombineBertModel, self).__init__()\n",
    "        self.syntax_encoder = GNNRelationModel().to(device)\n",
    "        self.bert = modeling_bert.BertModel()\n",
    "        self.original_bert = AutoModel.from_pretrained('bert-uncased')\n",
    "        model_dict = self.bert.state_dict()\n",
    "        pretrained_dict = {k: v for k, v in self.original_bert.state_dict().items() if k not in 'embeddings.token_type_embeddings.weight'}\n",
    "        model_dict.update(pretrained_dict) \n",
    "        self.bert.load_state_dict(model_dict, strict=False)\n",
    "        self.bert = self.bert.to(device)\n",
    "        \n",
    "\n",
    "    def postprocess_attention_mask(self, mask):\n",
    "        mask = mask.to(dtype=next(self.parameters()).dtype) \n",
    "        mask = (1.0 - mask) * -10000.0\n",
    "        return mask\n",
    "\n",
    "\n",
    "    def forward(self, input_ids, tag_ids, token_mask, adj_matrix):\n",
    "\n",
    "        sequence_output,_ = self.bert(input_ids=input_ids,attention_mask=token_mask,token_type_ids=tag_ids)\n",
    "\n",
    "        sequence_output = self.syntax_encoder(sequence_output,adj_matrix,None,None)\n",
    "\n",
    "        outputs = (sequence_output, None)\n",
    "        return outputs"
   ]
  },
  {
   "cell_type": "code",
   "execution_count": 32,
   "metadata": {
    "tags": []
   },
   "outputs": [],
   "source": [
    "class MyTokenClassification(nn.Module):\n",
    "    def __init__(self):\n",
    "        super(MyTokenClassification, self).__init__()\n",
    "        self.com_bert = CombineBertModel().to(device)\n",
    "        self.tok = MyTokenizer()\n",
    "        self.num_labels = 4\n",
    "        self.classifier = nn.Linear(768,4).to(device)\n",
    "        self.softmax = nn.Softmax(dim=2)\n",
    "    def forward(self, txts, dependencies, adj_matrix):\n",
    "        query_tokenized = self.tok.new_batch_encode_plus(txts,dependencies).to(device)\n",
    "        token_embedding, _ = self.com_bert(query_tokenized['input_ids'], query_tokenized['tag_indices'], query_tokenized['attention_mask'], adj_matrix)\n",
    "        cls_vals = self.classifier(token_embedding)\n",
    "        probs = self.softmax(cls_vals)\n",
    "        return probs"
   ]
  },
  {
   "cell_type": "code",
   "execution_count": 33,
   "metadata": {
    "tags": []
   },
   "outputs": [],
   "source": [
    "train_dataset = DataSequence(dftrain2, train_matrix)\n",
    "val_dataset = DataSequence(dfval2, dev_matrix)"
   ]
  },
  {
   "cell_type": "code",
   "execution_count": 34,
   "metadata": {
    "tags": []
   },
   "outputs": [],
   "source": [
    "train_dataloader = DataLoader(train_dataset, num_workers=4, batch_size=64, shuffle=True)\n",
    "val_dataloader = DataLoader(val_dataset, num_workers=4, batch_size=64)"
   ]
  },
  {
   "cell_type": "code",
   "execution_count": 35,
   "metadata": {
    "tags": []
   },
   "outputs": [],
   "source": [
    "from sklearn.metrics import precision_recall_fscore_support"
   ]
  },
  {
   "cell_type": "code",
   "execution_count": 36,
   "metadata": {
    "tags": []
   },
   "outputs": [],
   "source": [
    "def train_loop(model):\n",
    "    \n",
    "    criterion = nn.CrossEntropyLoss(weight = torch.tensor([0.0,0.5,1.0,1.0])).to(device)\n",
    "    optimizer = SGD(model.parameters(), lr=LEARNING_RATE)\n",
    "    tol = 3\n",
    "    patience = 0\n",
    "\n",
    "    best_acc = 0\n",
    "    best_loss = 1000\n",
    "    train_losses = []\n",
    "    val_losses = []\n",
    "    val_accuracies = []\n",
    "\n",
    "    for epoch_num in range(EPOCHS):\n",
    "\n",
    "        total_acc_train = 0\n",
    "        total_loss_train = 0\n",
    "        precisions = []\n",
    "        recalls = []\n",
    "        f1_scores = []\n",
    "\n",
    "        model.train()\n",
    "\n",
    "        for train_text, train_label, tran_dep, adj_mat in tqdm(train_dataloader):\n",
    "            \n",
    "            train_text = list(train_text)\n",
    "            train_label = train_label.to(device)\n",
    "            tran_dep = list(tran_dep)\n",
    "            train_batch_matrix = adj_mat.to(device)\n",
    "\n",
    "            optimizer.zero_grad()\n",
    "            logits = model(train_text, tran_dep, train_batch_matrix).to(device)\n",
    "            batch_loss = criterion(logits.view(-1,num_label), train_label.view(-1))\n",
    "            total_loss_train += batch_loss.item()\n",
    "\n",
    "            for i in range(logits.shape[0]):\n",
    "\n",
    "                logits_clean = logits[i][train_label[i] != 0]\n",
    "                label_clean = train_label[i][train_label[i] != 0]\n",
    "                \n",
    "                logits_clean= logits_clean[:,1:]\n",
    "                predictions = logits_clean.argmax(dim=1) + 1\n",
    "                \n",
    "                acc = (predictions == label_clean).float().mean()\n",
    "                total_acc_train += acc\n",
    "                total_loss_train += batch_loss.item()\n",
    "\n",
    "            batch_loss.backward()\n",
    "            optimizer.step()\n",
    "            \n",
    "        train_losses.append(total_loss_train)\n",
    "        \n",
    "        model.eval()\n",
    "\n",
    "        total_acc_val = 0\n",
    "        total_loss_val = 0\n",
    "\n",
    "        for val_text, val_label, val_dep, adj_mat in val_dataloader:\n",
    "\n",
    "            val_text = list(val_text)\n",
    "            val_label = val_label.to(device)\n",
    "            val_batch_matrix = adj_mat.to(device)\n",
    "\n",
    "            logits = model(val_text, val_dep, val_batch_matrix).to(device)\n",
    "            batch_loss = criterion(logits.view(-1,num_label), val_label.view(-1))\n",
    "\n",
    "            for i in range(logits.shape[0]):\n",
    "\n",
    "                logits_clean = logits[i][val_label[i] != 0]\n",
    "                label_clean = val_label[i][val_label[i] != 0]\n",
    "\n",
    "                logits_clean= logits_clean[:,1:]\n",
    "                predictions = logits_clean.argmax(dim=1) + 1\n",
    "                #prec, rec, fscore, _= precision_recall_fscore_support(label_clean.cpu().detach().numpy(), predictions.cpu().detach().numpy(), average='micro')\n",
    "\n",
    "                #precisions.append(prec)\n",
    "                #recalls.append(rec)\n",
    "                #fscores.append(fscore)\n",
    "                \n",
    "                acc = (predictions == label_clean).float().mean()\n",
    "                total_acc_val += acc\n",
    "                total_loss_val += batch_loss.item()\n",
    "\n",
    "        val_accuracy = total_acc_val / len(dfval)\n",
    "        val_loss = total_loss_val / len(dfval)\n",
    "        \n",
    "        if val_accuracy >= best_acc:\n",
    "            best_acc = val_accuracy\n",
    "            #print(best_acc)\n",
    "            patience = 0\n",
    "            torch.save(model, \"bert_pos_dep\")\n",
    "        else:\n",
    "            patience = patience + 1\n",
    "            \n",
    "        val_losses.append(val_loss)\n",
    "        \n",
    "        pd.DataFrame(data=train_losses).to_csv(\"train_losses_bert_pos_dep.csv\", header=None,columns=None,index=None)\n",
    "        pd.DataFrame(data=val_losses).to_csv(\"val_losses_bert_pos_dep.csv\", header=None,columns=None,index=None)\n",
    "\n",
    "        print(\n",
    "            f'Epochs: {epoch_num + 1} | Loss: {total_loss_train / len(dftrain): .3f} | Accuracy: {total_acc_train / len(dftrain): .3f} | Val_Loss: {total_loss_val / len(dfval) : .3f} | Val Accuracy: {total_acc_val / len(dfval): .3f}')\n",
    "        \n",
    "        if patience > tol:\n",
    "            break\n"
   ]
  },
  {
   "cell_type": "code",
   "execution_count": null,
   "metadata": {
    "tags": []
   },
   "outputs": [
    {
     "name": "stderr",
     "output_type": "stream",
     "text": [
      "100%|██████████| 182/182 [00:42<00:00,  4.29it/s]\n"
     ]
    },
    {
     "name": "stdout",
     "output_type": "stream",
     "text": [
      "Epochs: 1 | Loss:  1.007 | Accuracy:  0.829 | Val_Loss:  0.861 | Val Accuracy:  0.908\n"
     ]
    },
    {
     "name": "stderr",
     "output_type": "stream",
     "text": [
      "100%|██████████| 182/182 [00:42<00:00,  4.26it/s]\n"
     ]
    },
    {
     "name": "stdout",
     "output_type": "stream",
     "text": [
      "Epochs: 2 | Loss:  0.868 | Accuracy:  0.910 | Val_Loss:  0.833 | Val Accuracy:  0.926\n"
     ]
    },
    {
     "name": "stderr",
     "output_type": "stream",
     "text": [
      "100%|██████████| 182/182 [00:42<00:00,  4.28it/s]\n"
     ]
    },
    {
     "name": "stdout",
     "output_type": "stream",
     "text": [
      "Epochs: 3 | Loss:  0.846 | Accuracy:  0.926 | Val_Loss:  0.822 | Val Accuracy:  0.935\n"
     ]
    },
    {
     "name": "stderr",
     "output_type": "stream",
     "text": [
      "100%|██████████| 182/182 [00:42<00:00,  4.24it/s]\n"
     ]
    },
    {
     "name": "stdout",
     "output_type": "stream",
     "text": [
      "Epochs: 4 | Loss:  0.836 | Accuracy:  0.933 | Val_Loss:  0.817 | Val Accuracy:  0.938\n"
     ]
    },
    {
     "name": "stderr",
     "output_type": "stream",
     "text": [
      "100%|██████████| 182/182 [00:42<00:00,  4.26it/s]\n"
     ]
    },
    {
     "name": "stdout",
     "output_type": "stream",
     "text": [
      "Epochs: 5 | Loss:  0.831 | Accuracy:  0.936 | Val_Loss:  0.815 | Val Accuracy:  0.939\n"
     ]
    },
    {
     "name": "stderr",
     "output_type": "stream",
     "text": [
      "  9%|▉         | 16/182 [00:04<00:38,  4.33it/s]"
     ]
    }
   ],
   "source": [
    "LEARNING_RATE = 0.01\n",
    "EPOCHS = 100\n",
    "BATCH_SIZE = 64\n",
    "model = MyTokenClassification().to(device)\n",
    "train_loop(model)"
   ]
  },
  {
   "cell_type": "code",
   "execution_count": null,
   "metadata": {},
   "outputs": [],
   "source": [
    "train_losses = pd.read_csv(\"train_losses_bert_pos_dep.csv\").values\n",
    "plt.plot(train_losses)"
   ]
  },
  {
   "cell_type": "code",
   "execution_count": 75,
   "metadata": {},
   "outputs": [
    {
     "data": {
      "text/plain": [
       "[<matplotlib.lines.Line2D at 0x7f9431e80748>]"
      ]
     },
     "execution_count": 75,
     "metadata": {},
     "output_type": "execute_result"
    },
    {
     "data": {
      "image/png": "[encoded data removed]",
      "text/plain": [
       "<Figure size 432x288 with 1 Axes>"
      ]
     },
     "metadata": {
      "needs_background": "light"
     },
     "output_type": "display_data"
    }
   ],
   "source": [
    "val_losses = pd.read_csv(\"val_losses_bert_pos_dep.csv\").values\n",
    "plt.plot(val_losses)"
   ]
  },
  {
   "cell_type": "code",
   "execution_count": 33,
   "metadata": {},
   "outputs": [],
   "source": [
    "model = torch.load(\"bert_pos_dep\")"
   ]
  },
  {
   "cell_type": "code",
   "execution_count": 37,
   "metadata": {},
   "outputs": [
    {
     "name": "stderr",
     "output_type": "stream",
     "text": [
      "100%|██████████| 61/61 [00:09<00:00,  6.49it/s]"
     ]
    },
    {
     "name": "stdout",
     "output_type": "stream",
     "text": [
      "tensor(0.9735, device='cuda:0')\n",
      "0.9634316851184864\n",
      "0.9622912157366779\n",
      "0.9561336700714776\n",
      "0.8584345130457246\n"
     ]
    },
    {
     "name": "stderr",
     "output_type": "stream",
     "text": [
      "\n"
     ]
    }
   ],
   "source": [
    "test_dataset = DataSequence(dftest2, test_matrix)\n",
    "test_dataloader = DataLoader(test_dataset, num_workers=4, batch_size=64)\n",
    "total_acc_test = 0\n",
    "precisions = []\n",
    "recalls = []\n",
    "fscores = []\n",
    "exact_acc_ct = 0\n",
    "total_count = 0\n",
    "for test_text, test_label, test_dep, adj_mat in tqdm(test_dataloader):\n",
    "\n",
    "    test_text = list(test_text)\n",
    "    test_label = test_label.to(device)\n",
    "    test_batch_matrix = adj_mat.to(device)\n",
    "    logits = model(test_text, test_dep, test_batch_matrix).to(device)\n",
    "\n",
    "    for i in range(logits.shape[0]):\n",
    "\n",
    "        logits_clean = logits[i][test_label[i] != 0]\n",
    "        label_clean = test_label[i][test_label[i] != 0]\n",
    "\n",
    "        logits_clean= logits_clean[:,1:]\n",
    "        predictions = logits_clean.argmax(dim=1) + 1\n",
    "        prec, rec, fscore, _= precision_recall_fscore_support(label_clean.cpu().detach().numpy(), predictions.cpu().detach().numpy(), average='macro', zero_division = 1)\n",
    "\n",
    "        precisions.append(prec)\n",
    "        recalls.append(rec)\n",
    "        fscores.append(fscore)\n",
    "\n",
    "        acc = (predictions == label_clean).float().mean()\n",
    "        if acc == 1:\n",
    "            exact_acc_ct = exact_acc_ct + 1\n",
    "        total_acc_test += acc\n",
    "        total_count = total_count + 1\n",
    "\n",
    "test_accuracy = total_acc_test / len(dftest2)\n",
    "avg_prec = np.mean(precisions)\n",
    "avg_rec = np.mean(recalls)\n",
    "avg_fscores = np.mean(fscores)\n",
    "\n",
    "print(test_accuracy)\n",
    "print(avg_prec)\n",
    "print(avg_rec)\n",
    "print(avg_fscores)\n",
    "print(exact_acc_ct / total_count)"
   ]
  },
  {
   "cell_type": "code",
   "execution_count": null,
   "metadata": {},
   "outputs": [],
   "source": []
  }
 ],
 "metadata": {
  "kernelspec": {
   "display_name": "Python 3 (ipykernel)",
   "language": "python",
   "name": "python3"
  },
  "language_info": {
   "codemirror_mode": {
    "name": "ipython",
    "version": 3
   },
   "file_extension": ".py",
   "mimetype": "text/x-python",
   "name": "python",
   "nbconvert_exporter": "python",
   "pygments_lexer": "ipython3",
   "version": "3.7.15"
  }
 },
 "nbformat": 4,
 "nbformat_minor": 4
}
